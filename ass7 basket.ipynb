{
 "cells": [
  {
   "cell_type": "code",
   "execution_count": 16,
   "id": "d0c04e63-1661-4985-baec-07087baa23b6",
   "metadata": {},
   "outputs": [],
   "source": [
    "import pandas as pd\n"
   ]
  },
  {
   "cell_type": "code",
   "execution_count": 17,
   "id": "78e92c3c-7391-40bf-be20-154640bc3123",
   "metadata": {},
   "outputs": [],
   "source": [
    "from mlxtend.preprocessing import TransactionEncoder"
   ]
  },
  {
   "cell_type": "code",
   "execution_count": 14,
   "id": "865069cc-e1d5-49cd-ac5d-aec38902d0eb",
   "metadata": {},
   "outputs": [],
   "source": [
    "from mlxtend.frequent_patterns import apriori, association_rules"
   ]
  },
  {
   "cell_type": "code",
   "execution_count": 3,
   "id": "084a0f70-388d-4466-b101-2ad8a1592553",
   "metadata": {},
   "outputs": [],
   "source": [
    "data = pd.read_csv('Market_Basket_Optimisation.csv', header=None)\n"
   ]
  },
  {
   "cell_type": "code",
   "execution_count": 4,
   "id": "91ff5b7e-b923-4314-836e-54dad1c9712c",
   "metadata": {},
   "outputs": [],
   "source": [
    "transactions = []\n",
    "for i in range(len(data)):\n",
    "    transaction = [str(data.values[i, j]) for j in range(data.shape[1]) if str(data.values[i, j]) != 'nan']\n",
    "    transactions.append(transaction)\n"
   ]
  },
  {
   "cell_type": "code",
   "execution_count": 18,
   "id": "de784034-a87b-4b3c-8d30-0e34058a86a7",
   "metadata": {},
   "outputs": [],
   "source": [
    "te = TransactionEncoder()\n",
    "te_ary = te.fit(transactions).transform(transactions)\n",
    "df = pd.DataFrame(te_ary, columns=te.columns_)\n"
   ]
  },
  {
   "cell_type": "code",
   "execution_count": 19,
   "id": "a3abfe8a-ab94-41d4-b054-aa5a036edb86",
   "metadata": {},
   "outputs": [],
   "source": [
    "frequent_itemsets = apriori(df, min_support=0.01, use_colnames=True)"
   ]
  },
  {
   "cell_type": "code",
   "execution_count": 20,
   "id": "70769ba1-da41-4ad5-9ad1-2a2fc8239fc8",
   "metadata": {},
   "outputs": [],
   "source": [
    "try:\n",
    "    # Try generating association rules in the standard way\n",
    "    rules = association_rules(frequent_itemsets, metric=\"confidence\", min_threshold=0.2)\n",
    "except TypeError:\n",
    "    # For older versions of mlxtend that require 'num_itemsets'\n",
    "    num_itemsets = len(frequent_itemsets)\n",
    "    rules = association_rules(frequent_itemsets, metric=\"confidence\", min_threshold=0.2, num_itemsets=num_itemsets)"
   ]
  },
  {
   "cell_type": "code",
   "execution_count": 21,
   "id": "b0ead15e-30b8-489b-be29-83422a057da6",
   "metadata": {},
   "outputs": [
    {
     "name": "stdout",
     "output_type": "stream",
     "text": [
      "Association Rules:\n",
      "                    antecedents      consequents   support  confidence  \\\n",
      "0                     (avocado)  (mineral water)  0.011598    0.348000   \n",
      "1                     (burgers)           (eggs)  0.028796    0.330275   \n",
      "2                     (burgers)   (french fries)  0.021997    0.252294   \n",
      "3                     (burgers)      (green tea)  0.017464    0.200306   \n",
      "4                     (burgers)           (milk)  0.017864    0.204893   \n",
      "..                          ...              ...       ...         ...   \n",
      "157           (spaghetti, milk)  (mineral water)  0.015731    0.443609   \n",
      "158  (mineral water, olive oil)      (spaghetti)  0.010265    0.371981   \n",
      "159      (olive oil, spaghetti)  (mineral water)  0.010265    0.447674   \n",
      "160   (mineral water, pancakes)      (spaghetti)  0.011465    0.339921   \n",
      "161       (pancakes, spaghetti)  (mineral water)  0.011465    0.455026   \n",
      "\n",
      "         lift  \n",
      "0    1.459926  \n",
      "1    1.837830  \n",
      "2    1.476173  \n",
      "3    1.516139  \n",
      "4    1.581175  \n",
      "..        ...  \n",
      "157  1.861024  \n",
      "158  2.136468  \n",
      "159  1.878079  \n",
      "160  1.952333  \n",
      "161  1.908923  \n",
      "\n",
      "[162 rows x 5 columns]\n",
      "\n",
      "Top 10 Rules by Lift:\n",
      "                            antecedents          consequents   support  \\\n",
      "75                      (herb & pepper)        (ground beef)  0.015998   \n",
      "152          (mineral water, spaghetti)        (ground beef)  0.017064   \n",
      "69                           (tomatoes)  (frozen vegetables)  0.016131   \n",
      "67                             (shrimp)  (frozen vegetables)  0.016664   \n",
      "145               (mineral water, milk)  (frozen vegetables)  0.011065   \n",
      "153        (mineral water, ground beef)          (spaghetti)  0.017064   \n",
      "143  (frozen vegetables, mineral water)               (milk)  0.011065   \n",
      "149               (mineral water, milk)        (ground beef)  0.011065   \n",
      "90                               (soup)               (milk)  0.015198   \n",
      "79                          (spaghetti)        (ground beef)  0.039195   \n",
      "\n",
      "     confidence      lift  \n",
      "75     0.323450  3.291994  \n",
      "152    0.285714  2.907928  \n",
      "69     0.235867  2.474464  \n",
      "67     0.233209  2.446574  \n",
      "145    0.230556  2.418737  \n",
      "153    0.416938  2.394681  \n",
      "143    0.309701  2.389991  \n",
      "149    0.230556  2.346536  \n",
      "90     0.300792  2.321232  \n",
      "79     0.225115  2.291162  \n"
     ]
    }
   ],
   "source": [
    "\n",
    "print(\"Association Rules:\")\n",
    "print(rules[['antecedents', 'consequents', 'support', 'confidence', 'lift']])\n",
    "\n",
    "rules_sorted = rules.sort_values(by='lift', ascending=False)\n",
    "top_rules = rules_sorted.head(10)  # Select top 10 rules\n",
    "\n",
    "print(\"\\nTop 10 Rules by Lift:\")\n",
    "print(top_rules[['antecedents', 'consequents', 'support', 'confidence', 'lift']])\n"
   ]
  },
  {
   "cell_type": "code",
   "execution_count": null,
   "id": "ec2611a0-11a4-4ac5-9340-b368bbd39907",
   "metadata": {},
   "outputs": [],
   "source": []
  }
 ],
 "metadata": {
  "kernelspec": {
   "display_name": "Python 3 (ipykernel)",
   "language": "python",
   "name": "python3"
  },
  "language_info": {
   "codemirror_mode": {
    "name": "ipython",
    "version": 3
   },
   "file_extension": ".py",
   "mimetype": "text/x-python",
   "name": "python",
   "nbconvert_exporter": "python",
   "pygments_lexer": "ipython3",
   "version": "3.12.2"
  }
 },
 "nbformat": 4,
 "nbformat_minor": 5
}
